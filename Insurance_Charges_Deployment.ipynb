{
 "cells": [
  {
   "cell_type": "code",
   "execution_count": 32,
   "id": "5cf946ef-e957-4d5e-b946-db033f957273",
   "metadata": {},
   "outputs": [],
   "source": [
    "import pickle \n",
    "regressor = pickle.load(open(\"InsuranceChargePredictor.sav\",\"rb\"))\n"
   ]
  },
  {
   "cell_type": "code",
   "execution_count": 42,
   "id": "d97ef2b1-dbe7-45a8-aac6-69bfa524dbe2",
   "metadata": {},
   "outputs": [
    {
     "data": {
      "text/plain": [
       "array([16589.18908958])"
      ]
     },
     "execution_count": 42,
     "metadata": {},
     "output_type": "execute_result"
    }
   ],
   "source": [
    "# age = int(input(\"Enter Your Age : \"))\n",
    "# gender = input(\"Enter Your Gender (M / F / OTHERS) : \" ) \n",
    "# bmi = float(input(\"Enter Your BMI : \" ))\n",
    "# children = int(input(\"Enter No. of Children, Do you Have : \"))\n",
    "# smoker = input(\"Do You Smoke (Y / N) : \")\n",
    "age = 25\n",
    "gender = \"M\"\n",
    "bmi = 25.3\n",
    "children = 0\n",
    "smoker = \"N\"\n",
    "\n",
    "#Converting the Nominal data to number\n",
    "gender = 1 if gender == \"M\" else 0\n",
    "smoker = 1 if smoker == \"Y\"  else 0  \n",
    " \n",
    "regressor.predict([[age,gender,bmi,children,smoker]])\n"
   ]
  },
  {
   "cell_type": "code",
   "execution_count": null,
   "id": "95532f33-a282-44ec-9e97-9fceb019f46b",
   "metadata": {},
   "outputs": [],
   "source": []
  }
 ],
 "metadata": {
  "kernelspec": {
   "display_name": "Python [conda env:base] *",
   "language": "python",
   "name": "conda-base-py"
  },
  "language_info": {
   "codemirror_mode": {
    "name": "ipython",
    "version": 3
   },
   "file_extension": ".py",
   "mimetype": "text/x-python",
   "name": "python",
   "nbconvert_exporter": "python",
   "pygments_lexer": "ipython3",
   "version": "3.12.7"
  }
 },
 "nbformat": 4,
 "nbformat_minor": 5
}
