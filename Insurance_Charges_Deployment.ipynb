{
 "cells": [
  {
   "cell_type": "code",
   "execution_count": 64,
   "id": "5cf946ef-e957-4d5e-b946-db033f957273",
   "metadata": {},
   "outputs": [],
   "source": [
    "import pickle  \n",
    "from babel.numbers import format_currency\n",
    "\n",
    "regressor = pickle.load(open(\"InsuranceChargePredictor.sav\",\"rb\"))"
   ]
  },
  {
   "cell_type": "code",
   "execution_count": 79,
   "id": "d97ef2b1-dbe7-45a8-aac6-69bfa524dbe2",
   "metadata": {},
   "outputs": [
    {
     "name": "stdin",
     "output_type": "stream",
     "text": [
      "Enter Your Age :  25\n",
      "Enter Your Gender (M / F / OTHERS) :  m\n",
      "Enter Your BMI :  23.5\n",
      "Enter No. of Children, Do you Have :  0\n",
      "Do You Smoke (Y / N) :  n\n"
     ]
    },
    {
     "name": "stdout",
     "output_type": "stream",
     "text": [
      "As per you data, your insurance charge is ₹16,589.19\n"
     ]
    }
   ],
   "source": [
    "#User Inputs\n",
    "age = int(input(\"Enter Your Age : \"))\n",
    "gender = input(\"Enter Your Gender (M / F / OTHERS) : \" ) \n",
    "bmi = float(input(\"Enter Your BMI : \" ))\n",
    "children = int(input(\"Enter No. of Children, Do you Have : \"))\n",
    "smoker = input(\"Do You Smoke (Y / N) : \")\n",
    "  \n",
    "#Converting the Nominal data to number\n",
    "gender = 1 if gender.upper() == \"M\" else 0\n",
    "smoker = 1 if smoker.upper() == \"Y\"  else 0  \n",
    " \n",
    "#Predicting the Insurance Charges\n",
    "insurance_charges = round(regressor.predict([[age,gender,bmi,children,smoker]])[0],2)\n",
    "  \n",
    "print(f\"As per you data, your insurance charge is {format_currency(insurance_charges, 'INR', locale='en_IN')}\")\n"
   ]
  },
  {
   "cell_type": "code",
   "execution_count": null,
   "id": "95532f33-a282-44ec-9e97-9fceb019f46b",
   "metadata": {},
   "outputs": [],
   "source": []
  }
 ],
 "metadata": {
  "kernelspec": {
   "display_name": "Python [conda env:base] *",
   "language": "python",
   "name": "conda-base-py"
  },
  "language_info": {
   "codemirror_mode": {
    "name": "ipython",
    "version": 3
   },
   "file_extension": ".py",
   "mimetype": "text/x-python",
   "name": "python",
   "nbconvert_exporter": "python",
   "pygments_lexer": "ipython3",
   "version": "3.12.7"
  }
 },
 "nbformat": 4,
 "nbformat_minor": 5
}
